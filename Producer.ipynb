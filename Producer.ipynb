{
 "cells": [
  {
   "cell_type": "code",
   "execution_count": 31,
   "id": "c0c30857",
   "metadata": {},
   "outputs": [],
   "source": [
    "import requests\n",
    "import json\n",
    "import time\n",
    "import api_key\n",
    "from kafka import KafkaProducer"
   ]
  },
  {
   "cell_type": "code",
   "execution_count": 32,
   "id": "c6f3480d",
   "metadata": {},
   "outputs": [],
   "source": [
    "url = f'https://www.alphavantage.co/query?function=TIME_SERIES_INTRADAY&symbol=IBM&interval=1min&apikey={api_key}'\n",
    "r = requests.get(url)\n",
    "data = r.json()"
   ]
  },
  {
   "cell_type": "code",
   "execution_count": 33,
   "id": "4c527ddb",
   "metadata": {},
   "outputs": [],
   "source": [
    "def json_serializer(data):\n",
    "    return json.dumps(data).encode('utf-8')"
   ]
  },
  {
   "cell_type": "code",
   "execution_count": null,
   "id": "8035c417",
   "metadata": {},
   "outputs": [],
   "source": [
    "stock_data= data['Time Series (1min)']\n",
    "producer = KafkaProducer(bootstrap_servers='localhost:9092', value_serializer=json_serializer)"
   ]
  },
  {
   "cell_type": "code",
   "execution_count": null,
   "id": "b039ad62",
   "metadata": {},
   "outputs": [],
   "source": [
    "counter=0\n",
    "for ts,dp in stock_data.items():\n",
    "    print(dp)\n",
    "    producer.send('stock2',dp)\n",
    "    counter=counter+1\n",
    "    time.sleep(1)\n",
    "    if counter==10:\n",
    "        break"
   ]
  },
  {
   "cell_type": "code",
   "execution_count": 18,
   "id": "2d1b714f",
   "metadata": {},
   "outputs": [],
   "source": [
    "producer.flush()"
   ]
  },
  {
   "cell_type": "code",
   "execution_count": null,
   "id": "2b0b68e1",
   "metadata": {},
   "outputs": [],
   "source": []
  }
 ],
 "metadata": {
  "kernelspec": {
   "display_name": "Python 3 (ipykernel)",
   "language": "python",
   "name": "python3"
  },
  "language_info": {
   "codemirror_mode": {
    "name": "ipython",
    "version": 3
   },
   "file_extension": ".py",
   "mimetype": "text/x-python",
   "name": "python",
   "nbconvert_exporter": "python",
   "pygments_lexer": "ipython3",
   "version": "3.11.5"
  }
 },
 "nbformat": 4,
 "nbformat_minor": 5
}
